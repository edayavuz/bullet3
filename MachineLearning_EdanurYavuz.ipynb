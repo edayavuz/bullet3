{
  "nbformat": 4,
  "nbformat_minor": 0,
  "metadata": {
    "colab": {
      "provenance": [],
      "toc_visible": true,
      "name": "MachineLearning_EdanurYavuz",
      "authorship_tag": "ABX9TyOOVLzMgL7urj5URZEJWyyN",
      "include_colab_link": true
    },
    "kernelspec": {
      "name": "python3",
      "display_name": "Python 3"
    },
    "language_info": {
      "name": "python"
    }
  },
  "cells": [
    {
      "cell_type": "markdown",
      "metadata": {
        "id": "view-in-github",
        "colab_type": "text"
      },
      "source": [
        "<a href=\"https://colab.research.google.com/github/edayavuz/bullet3/blob/master/MachineLearning_EdanurYavuz.ipynb\" target=\"_parent\"><img src=\"https://colab.research.google.com/assets/colab-badge.svg\" alt=\"Open In Colab\"/></a>"
      ]
    },
    {
      "cell_type": "code",
      "execution_count": null,
      "metadata": {
        "id": "-V-94hFRKG1g"
      },
      "outputs": [],
      "source": [
        " import pandas as pd\n",
        "import numpy as np\n",
        "from sklearn.preprocessing import StandardScaler\n",
        "from sklearn.model_selection import train_test_split\n",
        "\n",
        "# Veri setini yükle\n",
        "url = \"https://raw.githubusercontent.com/jbrownlee/Datasets/master/pima-indians-diabetes.data.csv\"\n",
        "column_names = ['Pregnancies', 'Glucose', 'BloodPressure', 'SkinThickness', 'Insulin', 'BMI', 'DiabetesPedigreeFunction', 'Age', 'Outcome']\n",
        "data = pd.read_csv(url, names=column_names)\n",
        "\n",
        "# Eksik değerleri doldur\n",
        "data[['Glucose', 'BloodPressure', 'SkinThickness', 'Insulin', 'BMI']] = data[['Glucose', 'BloodPressure', 'SkinThickness', 'Insulin', 'BMI']].replace(0, np.nan)\n",
        "data.fillna(data.mean(), inplace=True)\n",
        "\n",
        "# Özellikler ve hedef değişkeni ayır\n",
        "X = data.drop('Outcome', axis=1)\n",
        "y = data['Outcome']\n",
        "\n",
        "# Veriyi eğitim ve test setlerine ayır\n",
        "X_train, X_test, y_train, y_test = train_test_split(X, y, test_size=0.2, random_state=42)\n",
        "\n",
        "# Veriyi standardize et\n",
        "scaler = StandardScaler()\n",
        "X_train = scaler.fit_transform(X_train)\n",
        "X_test = scaler.transform(X_test)\n"
      ]
    },
    {
      "cell_type": "code",
      "source": [
        "!pip install optuna"
      ],
      "metadata": {
        "colab": {
          "base_uri": "https://localhost:8080/"
        },
        "id": "tlnUTgH7gzNb",
        "outputId": "cc3bc81c-b813-4d6b-c0e0-216b56835729"
      },
      "execution_count": null,
      "outputs": [
        {
          "output_type": "stream",
          "name": "stdout",
          "text": [
            "Collecting optuna\n",
            "  Downloading optuna-3.6.1-py3-none-any.whl (380 kB)\n",
            "\u001b[2K     \u001b[90m━━━━━━━━━━━━━━━━━━━━━━━━━━━━━━━━━━━━━━━━\u001b[0m \u001b[32m380.1/380.1 kB\u001b[0m \u001b[31m5.6 MB/s\u001b[0m eta \u001b[36m0:00:00\u001b[0m\n",
            "\u001b[?25hCollecting alembic>=1.5.0 (from optuna)\n",
            "  Downloading alembic-1.13.1-py3-none-any.whl (233 kB)\n",
            "\u001b[2K     \u001b[90m━━━━━━━━━━━━━━━━━━━━━━━━━━━━━━━━━━━━━━━━\u001b[0m \u001b[32m233.4/233.4 kB\u001b[0m \u001b[31m7.7 MB/s\u001b[0m eta \u001b[36m0:00:00\u001b[0m\n",
            "\u001b[?25hCollecting colorlog (from optuna)\n",
            "  Downloading colorlog-6.8.2-py3-none-any.whl (11 kB)\n",
            "Requirement already satisfied: numpy in /usr/local/lib/python3.10/dist-packages (from optuna) (1.25.2)\n",
            "Requirement already satisfied: packaging>=20.0 in /usr/local/lib/python3.10/dist-packages (from optuna) (24.0)\n",
            "Requirement already satisfied: sqlalchemy>=1.3.0 in /usr/local/lib/python3.10/dist-packages (from optuna) (2.0.30)\n",
            "Requirement already satisfied: tqdm in /usr/local/lib/python3.10/dist-packages (from optuna) (4.66.4)\n",
            "Requirement already satisfied: PyYAML in /usr/local/lib/python3.10/dist-packages (from optuna) (6.0.1)\n",
            "Collecting Mako (from alembic>=1.5.0->optuna)\n",
            "  Downloading Mako-1.3.5-py3-none-any.whl (78 kB)\n",
            "\u001b[2K     \u001b[90m━━━━━━━━━━━━━━━━━━━━━━━━━━━━━━━━━━━━━━━━\u001b[0m \u001b[32m78.6/78.6 kB\u001b[0m \u001b[31m9.2 MB/s\u001b[0m eta \u001b[36m0:00:00\u001b[0m\n",
            "\u001b[?25hRequirement already satisfied: typing-extensions>=4 in /usr/local/lib/python3.10/dist-packages (from alembic>=1.5.0->optuna) (4.12.1)\n",
            "Requirement already satisfied: greenlet!=0.4.17 in /usr/local/lib/python3.10/dist-packages (from sqlalchemy>=1.3.0->optuna) (3.0.3)\n",
            "Requirement already satisfied: MarkupSafe>=0.9.2 in /usr/local/lib/python3.10/dist-packages (from Mako->alembic>=1.5.0->optuna) (2.1.5)\n",
            "Installing collected packages: Mako, colorlog, alembic, optuna\n",
            "Successfully installed Mako-1.3.5 alembic-1.13.1 colorlog-6.8.2 optuna-3.6.1\n"
          ]
        }
      ]
    },
    {
      "cell_type": "code",
      "source": [
        "import optuna\n",
        "from sklearn.model_selection import cross_val_score\n",
        "from sklearn.svm import SVC\n",
        "from sklearn.ensemble import RandomForestClassifier\n",
        "from sklearn.linear_model import LogisticRegression\n",
        "\n",
        "# Optuna ile optimizasyon\n",
        "def objective(trial):\n",
        "    classifier_name = trial.suggest_categorical(\"classifier\", [\"SVC\", \"RandomForest\", \"LogisticRegression\"])\n",
        "\n",
        "    if classifier_name == \"SVC\":\n",
        "        svc_c = trial.suggest_float(\"svc_c\", 1e-6, 1e1, log=True)\n",
        "        classifier_obj = SVC(C=svc_c, gamma=\"auto\")\n",
        "\n",
        "    elif classifier_name == \"RandomForest\":\n",
        "        rf_n_estimators = trial.suggest_int(\"rf_n_estimators\", 10, 100)\n",
        "        rf_max_depth = trial.suggest_int(\"rf_max_depth\", 2, 32)\n",
        "        classifier_obj = RandomForestClassifier(n_estimators=rf_n_estimators, max_depth=rf_max_depth)\n",
        "\n",
        "    else:\n",
        "        lr_c = trial.suggest_float(\"lr_c\", 1e-6, 1e1, log=True)\n",
        "        classifier_obj = LogisticRegression(C=lr_c, max_iter=1000)\n",
        "\n",
        "    score = cross_val_score(classifier_obj, X_train, y_train, n_jobs=-1, cv=3)\n",
        "    accuracy = score.mean()\n",
        "    return accuracy\n",
        "\n",
        "study = optuna.create_study(direction=\"maximize\")\n",
        "study.optimize(objective, n_trials=100)\n",
        "\n",
        "print(\"Number of finished trials: \", len(study.trials))\n",
        "print(\"Best trial:\")\n",
        "trial = study.best_trial\n",
        "\n",
        "print(\"  Value: \", trial.value)\n",
        "print(\"  Params: \")\n",
        "for key, value in trial.params.items():\n",
        "    print(\"    {}: {}\".format(key, value))\n"
      ],
      "metadata": {
        "colab": {
          "base_uri": "https://localhost:8080/"
        },
        "id": "8YDCd2kQhGsz",
        "outputId": "5f9c846f-cc8d-4154-b684-6c296cef74bf"
      },
      "execution_count": null,
      "outputs": [
        {
          "output_type": "stream",
          "name": "stderr",
          "text": [
            "[I 2024-06-11 13:37:33,057] A new study created in memory with name: no-name-c69debd9-bf16-45b3-89ec-dc112499ca5d\n",
            "[I 2024-06-11 13:37:36,882] Trial 0 finished with value: 0.6530926191614858 and parameters: {'classifier': 'SVC', 'svc_c': 0.003282863733665799}. Best is trial 0 with value: 0.6530926191614858.\n",
            "[I 2024-06-11 13:37:37,016] Trial 1 finished with value: 0.7133588394707476 and parameters: {'classifier': 'SVC', 'svc_c': 0.0991101161331364}. Best is trial 1 with value: 0.7133588394707476.\n",
            "[I 2024-06-11 13:37:37,074] Trial 2 finished with value: 0.7263669695520485 and parameters: {'classifier': 'LogisticRegression', 'lr_c': 0.005715395754405789}. Best is trial 2 with value: 0.7263669695520485.\n",
            "[I 2024-06-11 13:37:37,124] Trial 3 finished with value: 0.6530926191614858 and parameters: {'classifier': 'LogisticRegression', 'lr_c': 1.8744295625800155e-05}. Best is trial 2 with value: 0.7263669695520485.\n",
            "[I 2024-06-11 13:37:37,403] Trial 4 finished with value: 0.755706998246453 and parameters: {'classifier': 'RandomForest', 'rf_n_estimators': 12, 'rf_max_depth': 23}. Best is trial 4 with value: 0.755706998246453.\n",
            "[I 2024-06-11 13:37:37,474] Trial 5 finished with value: 0.7475609756097561 and parameters: {'classifier': 'SVC', 'svc_c': 0.2836390172512978}. Best is trial 4 with value: 0.755706998246453.\n",
            "[I 2024-06-11 13:37:37,568] Trial 6 finished with value: 0.7670492587278814 and parameters: {'classifier': 'RandomForest', 'rf_n_estimators': 12, 'rf_max_depth': 4}. Best is trial 6 with value: 0.7670492587278814.\n",
            "[I 2024-06-11 13:37:37,611] Trial 7 finished with value: 0.6530926191614858 and parameters: {'classifier': 'LogisticRegression', 'lr_c': 0.001242461175539593}. Best is trial 6 with value: 0.7670492587278814.\n",
            "[I 2024-06-11 13:37:37,651] Trial 8 finished with value: 0.6530926191614858 and parameters: {'classifier': 'LogisticRegression', 'lr_c': 2.0992487190162482e-05}. Best is trial 6 with value: 0.7670492587278814.\n",
            "[I 2024-06-11 13:37:37,695] Trial 9 finished with value: 0.6530926191614858 and parameters: {'classifier': 'LogisticRegression', 'lr_c': 6.068694772376915e-06}. Best is trial 6 with value: 0.7670492587278814.\n",
            "[I 2024-06-11 13:37:38,007] Trial 10 finished with value: 0.7329029172644668 and parameters: {'classifier': 'RandomForest', 'rf_n_estimators': 31, 'rf_max_depth': 2}. Best is trial 6 with value: 0.7670492587278814.\n",
            "[I 2024-06-11 13:37:38,179] Trial 11 finished with value: 0.7345209628566874 and parameters: {'classifier': 'RandomForest', 'rf_n_estimators': 10, 'rf_max_depth': 25}. Best is trial 6 with value: 0.7670492587278814.\n",
            "[I 2024-06-11 13:37:39,124] Trial 12 finished with value: 0.7622030926191615 and parameters: {'classifier': 'RandomForest', 'rf_n_estimators': 89, 'rf_max_depth': 14}. Best is trial 6 with value: 0.7670492587278814.\n",
            "[I 2024-06-11 13:37:40,996] Trial 13 finished with value: 0.7605770763589988 and parameters: {'classifier': 'RandomForest', 'rf_n_estimators': 98, 'rf_max_depth': 6}. Best is trial 6 with value: 0.7670492587278814.\n",
            "[I 2024-06-11 13:37:42,605] Trial 14 finished with value: 0.771983102183963 and parameters: {'classifier': 'RandomForest', 'rf_n_estimators': 82, 'rf_max_depth': 13}. Best is trial 14 with value: 0.771983102183963.\n",
            "[I 2024-06-11 13:37:44,429] Trial 15 finished with value: 0.7573091025027897 and parameters: {'classifier': 'RandomForest', 'rf_n_estimators': 67, 'rf_max_depth': 12}. Best is trial 14 with value: 0.771983102183963.\n",
            "[I 2024-06-11 13:37:45,289] Trial 16 finished with value: 0.7622110632871034 and parameters: {'classifier': 'RandomForest', 'rf_n_estimators': 59, 'rf_max_depth': 9}. Best is trial 14 with value: 0.771983102183963.\n",
            "[I 2024-06-11 13:37:46,396] Trial 17 finished with value: 0.7621712099473936 and parameters: {'classifier': 'RandomForest', 'rf_n_estimators': 77, 'rf_max_depth': 19}. Best is trial 14 with value: 0.771983102183963.\n",
            "[I 2024-06-11 13:37:46,953] Trial 18 finished with value: 0.7638131675434402 and parameters: {'classifier': 'RandomForest', 'rf_n_estimators': 40, 'rf_max_depth': 31}. Best is trial 14 with value: 0.771983102183963.\n",
            "[I 2024-06-11 13:37:47,381] Trial 19 finished with value: 0.7426749561613263 and parameters: {'classifier': 'RandomForest', 'rf_n_estimators': 44, 'rf_max_depth': 2}. Best is trial 14 with value: 0.771983102183963.\n",
            "[I 2024-06-11 13:37:47,460] Trial 20 finished with value: 0.6530926191614858 and parameters: {'classifier': 'SVC', 'svc_c': 6.517437859812919e-06}. Best is trial 14 with value: 0.771983102183963.\n",
            "[I 2024-06-11 13:37:47,941] Trial 21 finished with value: 0.7524390243902439 and parameters: {'classifier': 'RandomForest', 'rf_n_estimators': 31, 'rf_max_depth': 32}. Best is trial 14 with value: 0.771983102183963.\n",
            "[I 2024-06-11 13:37:48,339] Trial 22 finished with value: 0.7589430894308943 and parameters: {'classifier': 'RandomForest', 'rf_n_estimators': 41, 'rf_max_depth': 30}. Best is trial 14 with value: 0.771983102183963.\n",
            "[I 2024-06-11 13:37:48,681] Trial 23 finished with value: 0.7491630798660928 and parameters: {'classifier': 'RandomForest', 'rf_n_estimators': 25, 'rf_max_depth': 16}. Best is trial 14 with value: 0.771983102183963.\n",
            "[I 2024-06-11 13:37:49,148] Trial 24 finished with value: 0.763845050215208 and parameters: {'classifier': 'RandomForest', 'rf_n_estimators': 53, 'rf_max_depth': 8}. Best is trial 14 with value: 0.771983102183963.\n",
            "[I 2024-06-11 13:37:49,836] Trial 25 finished with value: 0.7752191933684043 and parameters: {'classifier': 'RandomForest', 'rf_n_estimators': 78, 'rf_max_depth': 8}. Best is trial 25 with value: 0.7752191933684043.\n",
            "[I 2024-06-11 13:37:50,773] Trial 26 finished with value: 0.7573170731707317 and parameters: {'classifier': 'RandomForest', 'rf_n_estimators': 78, 'rf_max_depth': 11}. Best is trial 25 with value: 0.7752191933684043.\n",
            "[I 2024-06-11 13:37:51,548] Trial 27 finished with value: 0.7540809819862905 and parameters: {'classifier': 'RandomForest', 'rf_n_estimators': 79, 'rf_max_depth': 5}. Best is trial 25 with value: 0.7752191933684043.\n",
            "[I 2024-06-11 13:37:52,175] Trial 28 finished with value: 0.7589430894308943 and parameters: {'classifier': 'RandomForest', 'rf_n_estimators': 67, 'rf_max_depth': 5}. Best is trial 25 with value: 0.7752191933684043.\n",
            "[I 2024-06-11 13:37:52,246] Trial 29 finished with value: 0.6530926191614858 and parameters: {'classifier': 'SVC', 'svc_c': 1.171966848550541e-06}. Best is trial 25 with value: 0.7752191933684043.\n",
            "[I 2024-06-11 13:37:52,330] Trial 30 finished with value: 0.7410808225729316 and parameters: {'classifier': 'SVC', 'svc_c': 7.4820181725481785}. Best is trial 25 with value: 0.7752191933684043.\n",
            "[I 2024-06-11 13:37:53,097] Trial 31 finished with value: 0.760569105691057 and parameters: {'classifier': 'RandomForest', 'rf_n_estimators': 89, 'rf_max_depth': 8}. Best is trial 25 with value: 0.7752191933684043.\n",
            "[I 2024-06-11 13:37:53,413] Trial 32 finished with value: 0.7573250438386737 and parameters: {'classifier': 'RandomForest', 'rf_n_estimators': 59, 'rf_max_depth': 9}. Best is trial 25 with value: 0.7752191933684043.\n",
            "[I 2024-06-11 13:37:53,689] Trial 33 finished with value: 0.7589510600988363 and parameters: {'classifier': 'RandomForest', 'rf_n_estimators': 51, 'rf_max_depth': 12}. Best is trial 25 with value: 0.7752191933684043.\n",
            "[I 2024-06-11 13:37:54,065] Trial 34 finished with value: 0.7703650565917424 and parameters: {'classifier': 'RandomForest', 'rf_n_estimators': 69, 'rf_max_depth': 7}. Best is trial 25 with value: 0.7752191933684043.\n",
            "[I 2024-06-11 13:37:54,403] Trial 35 finished with value: 0.7670731707317073 and parameters: {'classifier': 'RandomForest', 'rf_n_estimators': 71, 'rf_max_depth': 4}. Best is trial 25 with value: 0.7752191933684043.\n",
            "[I 2024-06-11 13:37:54,437] Trial 36 finished with value: 0.7654551251394867 and parameters: {'classifier': 'LogisticRegression', 'lr_c': 9.903072352488763}. Best is trial 25 with value: 0.7752191933684043.\n",
            "[I 2024-06-11 13:37:54,492] Trial 37 finished with value: 0.6530926191614858 and parameters: {'classifier': 'SVC', 'svc_c': 0.00012861509961957748}. Best is trial 25 with value: 0.7752191933684043.\n",
            "[I 2024-06-11 13:37:55,012] Trial 38 finished with value: 0.7622110632871034 and parameters: {'classifier': 'RandomForest', 'rf_n_estimators': 68, 'rf_max_depth': 15}. Best is trial 25 with value: 0.7752191933684043.\n",
            "[I 2024-06-11 13:37:55,079] Trial 39 finished with value: 0.7654551251394867 and parameters: {'classifier': 'LogisticRegression', 'lr_c': 3.280815097167828}. Best is trial 25 with value: 0.7752191933684043.\n",
            "[I 2024-06-11 13:37:55,959] Trial 40 finished with value: 0.760569105691057 and parameters: {'classifier': 'RandomForest', 'rf_n_estimators': 87, 'rf_max_depth': 7}. Best is trial 25 with value: 0.7752191933684043.\n",
            "[I 2024-06-11 13:37:56,607] Trial 41 finished with value: 0.7491630798660928 and parameters: {'classifier': 'RandomForest', 'rf_n_estimators': 71, 'rf_max_depth': 4}. Best is trial 25 with value: 0.7752191933684043.\n",
            "[I 2024-06-11 13:37:57,331] Trial 42 finished with value: 0.7556910569105691 and parameters: {'classifier': 'RandomForest', 'rf_n_estimators': 81, 'rf_max_depth': 3}. Best is trial 25 with value: 0.7752191933684043.\n",
            "[I 2024-06-11 13:37:57,929] Trial 43 finished with value: 0.7621951219512195 and parameters: {'classifier': 'RandomForest', 'rf_n_estimators': 73, 'rf_max_depth': 6}. Best is trial 25 with value: 0.7752191933684043.\n",
            "[I 2024-06-11 13:37:58,496] Trial 44 finished with value: 0.7621791806153356 and parameters: {'classifier': 'RandomForest', 'rf_n_estimators': 61, 'rf_max_depth': 10}. Best is trial 25 with value: 0.7752191933684043.\n",
            "[I 2024-06-11 13:37:58,546] Trial 45 finished with value: 0.7638291088793241 and parameters: {'classifier': 'LogisticRegression', 'lr_c': 0.05951957308269809}. Best is trial 25 with value: 0.7752191933684043.\n",
            "[I 2024-06-11 13:37:59,408] Trial 46 finished with value: 0.7638291088793241 and parameters: {'classifier': 'RandomForest', 'rf_n_estimators': 96, 'rf_max_depth': 4}. Best is trial 25 with value: 0.7752191933684043.\n",
            "[I 2024-06-11 13:38:00,073] Trial 47 finished with value: 0.7752191933684043 and parameters: {'classifier': 'RandomForest', 'rf_n_estimators': 84, 'rf_max_depth': 13}. Best is trial 25 with value: 0.7752191933684043.\n",
            "[I 2024-06-11 13:38:00,513] Trial 48 finished with value: 0.7801052128168341 and parameters: {'classifier': 'RandomForest', 'rf_n_estimators': 83, 'rf_max_depth': 18}. Best is trial 48 with value: 0.7801052128168341.\n",
            "[I 2024-06-11 13:38:00,562] Trial 49 finished with value: 0.6530926191614858 and parameters: {'classifier': 'SVC', 'svc_c': 0.000444563630431709}. Best is trial 48 with value: 0.7801052128168341.\n",
            "[I 2024-06-11 13:38:01,138] Trial 50 finished with value: 0.7703570859238004 and parameters: {'classifier': 'RandomForest', 'rf_n_estimators': 82, 'rf_max_depth': 18}. Best is trial 48 with value: 0.7801052128168341.\n",
            "[I 2024-06-11 13:38:01,868] Trial 51 finished with value: 0.7605451936872311 and parameters: {'classifier': 'RandomForest', 'rf_n_estimators': 85, 'rf_max_depth': 19}. Best is trial 48 with value: 0.7801052128168341.\n",
            "[I 2024-06-11 13:38:02,783] Trial 52 finished with value: 0.7622110632871034 and parameters: {'classifier': 'RandomForest', 'rf_n_estimators': 94, 'rf_max_depth': 19}. Best is trial 48 with value: 0.7801052128168341.\n",
            "[I 2024-06-11 13:38:03,474] Trial 53 finished with value: 0.7687071576598119 and parameters: {'classifier': 'RandomForest', 'rf_n_estimators': 84, 'rf_max_depth': 21}. Best is trial 48 with value: 0.7801052128168341.\n",
            "[I 2024-06-11 13:38:04,241] Trial 54 finished with value: 0.7654551251394867 and parameters: {'classifier': 'RandomForest', 'rf_n_estimators': 91, 'rf_max_depth': 13}. Best is trial 48 with value: 0.7801052128168341.\n",
            "[I 2024-06-11 13:38:04,939] Trial 55 finished with value: 0.7670731707317073 and parameters: {'classifier': 'RandomForest', 'rf_n_estimators': 75, 'rf_max_depth': 24}. Best is trial 48 with value: 0.7801052128168341.\n",
            "[I 2024-06-11 13:38:05,716] Trial 56 finished with value: 0.7573250438386737 and parameters: {'classifier': 'RandomForest', 'rf_n_estimators': 82, 'rf_max_depth': 16}. Best is trial 48 with value: 0.7801052128168341.\n",
            "[I 2024-06-11 13:38:05,751] Trial 57 finished with value: 0.6530926191614858 and parameters: {'classifier': 'LogisticRegression', 'lr_c': 0.0005944292451809944}. Best is trial 48 with value: 0.7801052128168341.\n",
            "[I 2024-06-11 13:38:06,222] Trial 58 finished with value: 0.7621951219512195 and parameters: {'classifier': 'RandomForest', 'rf_n_estimators': 91, 'rf_max_depth': 17}. Best is trial 48 with value: 0.7801052128168341.\n",
            "[I 2024-06-11 13:38:06,669] Trial 59 finished with value: 0.7719910728519049 and parameters: {'classifier': 'RandomForest', 'rf_n_estimators': 85, 'rf_max_depth': 21}. Best is trial 48 with value: 0.7801052128168341.\n",
            "[I 2024-06-11 13:38:07,167] Trial 60 finished with value: 0.7736091184441256 and parameters: {'classifier': 'RandomForest', 'rf_n_estimators': 98, 'rf_max_depth': 22}. Best is trial 48 with value: 0.7801052128168341.\n",
            "[I 2024-06-11 13:38:07,719] Trial 61 finished with value: 0.771967160848079 and parameters: {'classifier': 'RandomForest', 'rf_n_estimators': 99, 'rf_max_depth': 22}. Best is trial 48 with value: 0.7801052128168341.\n",
            "[I 2024-06-11 13:38:08,254] Trial 62 finished with value: 0.7703411445879165 and parameters: {'classifier': 'RandomForest', 'rf_n_estimators': 100, 'rf_max_depth': 27}. Best is trial 48 with value: 0.7801052128168341.\n",
            "[I 2024-06-11 13:38:08,760] Trial 63 finished with value: 0.7654471544715448 and parameters: {'classifier': 'RandomForest', 'rf_n_estimators': 96, 'rf_max_depth': 22}. Best is trial 48 with value: 0.7801052128168341.\n",
            "[I 2024-06-11 13:38:09,241] Trial 64 finished with value: 0.763845050215208 and parameters: {'classifier': 'RandomForest', 'rf_n_estimators': 93, 'rf_max_depth': 21}. Best is trial 48 with value: 0.7801052128168341.\n",
            "[I 2024-06-11 13:38:09,762] Trial 65 finished with value: 0.7638211382113821 and parameters: {'classifier': 'RandomForest', 'rf_n_estimators': 100, 'rf_max_depth': 26}. Best is trial 48 with value: 0.7801052128168341.\n",
            "[I 2024-06-11 13:38:10,341] Trial 66 finished with value: 0.7654471544715448 and parameters: {'classifier': 'RandomForest', 'rf_n_estimators': 87, 'rf_max_depth': 21}. Best is trial 48 with value: 0.7801052128168341.\n",
            "[I 2024-06-11 13:38:10,416] Trial 67 finished with value: 0.7426988681651522 and parameters: {'classifier': 'SVC', 'svc_c': 5.9094237256228785}. Best is trial 48 with value: 0.7801052128168341.\n",
            "[I 2024-06-11 13:38:11,021] Trial 68 finished with value: 0.7638370795472661 and parameters: {'classifier': 'RandomForest', 'rf_n_estimators': 77, 'rf_max_depth': 23}. Best is trial 48 with value: 0.7801052128168341.\n",
            "[I 2024-06-11 13:38:11,816] Trial 69 finished with value: 0.7687151283277539 and parameters: {'classifier': 'RandomForest', 'rf_n_estimators': 88, 'rf_max_depth': 13}. Best is trial 48 with value: 0.7801052128168341.\n",
            "[I 2024-06-11 13:38:12,602] Trial 70 finished with value: 0.760569105691057 and parameters: {'classifier': 'RandomForest', 'rf_n_estimators': 95, 'rf_max_depth': 20}. Best is trial 48 with value: 0.7801052128168341.\n",
            "[I 2024-06-11 13:38:13,393] Trial 71 finished with value: 0.7589510600988363 and parameters: {'classifier': 'RandomForest', 'rf_n_estimators': 83, 'rf_max_depth': 24}. Best is trial 48 with value: 0.7801052128168341.\n",
            "[I 2024-06-11 13:38:14,069] Trial 72 finished with value: 0.755706998246453 and parameters: {'classifier': 'RandomForest', 'rf_n_estimators': 77, 'rf_max_depth': 18}. Best is trial 48 with value: 0.7801052128168341.\n",
            "[I 2024-06-11 13:38:14,953] Trial 73 finished with value: 0.7638211382113821 and parameters: {'classifier': 'RandomForest', 'rf_n_estimators': 91, 'rf_max_depth': 14}. Best is trial 48 with value: 0.7801052128168341.\n",
            "[I 2024-06-11 13:38:15,356] Trial 74 finished with value: 0.771983102183963 and parameters: {'classifier': 'RandomForest', 'rf_n_estimators': 63, 'rf_max_depth': 10}. Best is trial 48 with value: 0.7801052128168341.\n",
            "[I 2024-06-11 13:38:15,694] Trial 75 finished with value: 0.7654710664753707 and parameters: {'classifier': 'RandomForest', 'rf_n_estimators': 65, 'rf_max_depth': 11}. Best is trial 48 with value: 0.7801052128168341.\n",
            "[I 2024-06-11 13:38:15,734] Trial 76 finished with value: 0.7638211382113821 and parameters: {'classifier': 'LogisticRegression', 'lr_c': 0.4601633623580474}. Best is trial 48 with value: 0.7801052128168341.\n",
            "[I 2024-06-11 13:38:16,170] Trial 77 finished with value: 0.7589430894308943 and parameters: {'classifier': 'RandomForest', 'rf_n_estimators': 80, 'rf_max_depth': 10}. Best is trial 48 with value: 0.7801052128168341.\n",
            "[I 2024-06-11 13:38:16,624] Trial 78 finished with value: 0.7752431053722302 and parameters: {'classifier': 'RandomForest', 'rf_n_estimators': 86, 'rf_max_depth': 15}. Best is trial 48 with value: 0.7801052128168341.\n",
            "[I 2024-06-11 13:38:16,679] Trial 79 finished with value: 0.6530926191614858 and parameters: {'classifier': 'SVC', 'svc_c': 0.017476287675004906}. Best is trial 48 with value: 0.7801052128168341.\n",
            "[I 2024-06-11 13:38:17,088] Trial 80 finished with value: 0.7784791965566714 and parameters: {'classifier': 'RandomForest', 'rf_n_estimators': 74, 'rf_max_depth': 15}. Best is trial 48 with value: 0.7801052128168341.\n",
            "[I 2024-06-11 13:38:17,521] Trial 81 finished with value: 0.7605770763589988 and parameters: {'classifier': 'RandomForest', 'rf_n_estimators': 85, 'rf_max_depth': 15}. Best is trial 48 with value: 0.7801052128168341.\n",
            "[I 2024-06-11 13:38:17,903] Trial 82 finished with value: 0.7736489717838354 and parameters: {'classifier': 'RandomForest', 'rf_n_estimators': 74, 'rf_max_depth': 14}. Best is trial 48 with value: 0.7801052128168341.\n",
            "[I 2024-06-11 13:38:18,316] Trial 83 finished with value: 0.7654630958074287 and parameters: {'classifier': 'RandomForest', 'rf_n_estimators': 75, 'rf_max_depth': 15}. Best is trial 48 with value: 0.7801052128168341.\n",
            "[I 2024-06-11 13:38:18,706] Trial 84 finished with value: 0.7654630958074287 and parameters: {'classifier': 'RandomForest', 'rf_n_estimators': 73, 'rf_max_depth': 17}. Best is trial 48 with value: 0.7801052128168341.\n",
            "[I 2024-06-11 13:38:19,128] Trial 85 finished with value: 0.7622270046229874 and parameters: {'classifier': 'RandomForest', 'rf_n_estimators': 79, 'rf_max_depth': 13}. Best is trial 48 with value: 0.7801052128168341.\n",
            "[I 2024-06-11 13:38:19,572] Trial 86 finished with value: 0.7703092619161486 and parameters: {'classifier': 'RandomForest', 'rf_n_estimators': 88, 'rf_max_depth': 14}. Best is trial 48 with value: 0.7801052128168341.\n",
            "[I 2024-06-11 13:38:19,960] Trial 87 finished with value: 0.7589430894308943 and parameters: {'classifier': 'RandomForest', 'rf_n_estimators': 75, 'rf_max_depth': 16}. Best is trial 48 with value: 0.7801052128168341.\n",
            "[I 2024-06-11 13:38:20,428] Trial 88 finished with value: 0.7654710664753707 and parameters: {'classifier': 'RandomForest', 'rf_n_estimators': 85, 'rf_max_depth': 18}. Best is trial 48 with value: 0.7801052128168341.\n",
            "[I 2024-06-11 13:38:20,802] Trial 89 finished with value: 0.7670891120675912 and parameters: {'classifier': 'RandomForest', 'rf_n_estimators': 71, 'rf_max_depth': 14}. Best is trial 48 with value: 0.7801052128168341.\n",
            "[I 2024-06-11 13:38:20,837] Trial 90 finished with value: 0.6530926191614858 and parameters: {'classifier': 'LogisticRegression', 'lr_c': 0.00016589287355388984}. Best is trial 48 with value: 0.7801052128168341.\n",
            "[I 2024-06-11 13:38:21,176] Trial 91 finished with value: 0.7752431053722302 and parameters: {'classifier': 'RandomForest', 'rf_n_estimators': 63, 'rf_max_depth': 12}. Best is trial 48 with value: 0.7801052128168341.\n",
            "[I 2024-06-11 13:38:21,590] Trial 92 finished with value: 0.7736011477761836 and parameters: {'classifier': 'RandomForest', 'rf_n_estimators': 79, 'rf_max_depth': 12}. Best is trial 48 with value: 0.7801052128168341.\n",
            "[I 2024-06-11 13:38:21,878] Trial 93 finished with value: 0.7735931771082417 and parameters: {'classifier': 'RandomForest', 'rf_n_estimators': 54, 'rf_max_depth': 12}. Best is trial 48 with value: 0.7801052128168341.\n",
            "[I 2024-06-11 13:38:22,148] Trial 94 finished with value: 0.7719512195121951 and parameters: {'classifier': 'RandomForest', 'rf_n_estimators': 50, 'rf_max_depth': 12}. Best is trial 48 with value: 0.7801052128168341.\n",
            "[I 2024-06-11 13:38:22,421] Trial 95 finished with value: 0.7589191774270684 and parameters: {'classifier': 'RandomForest', 'rf_n_estimators': 48, 'rf_max_depth': 11}. Best is trial 48 with value: 0.7801052128168341.\n",
            "[I 2024-06-11 13:38:22,725] Trial 96 finished with value: 0.7573170731707317 and parameters: {'classifier': 'RandomForest', 'rf_n_estimators': 57, 'rf_max_depth': 12}. Best is trial 48 with value: 0.7801052128168341.\n",
            "[I 2024-06-11 13:38:23,019] Trial 97 finished with value: 0.7654710664753707 and parameters: {'classifier': 'RandomForest', 'rf_n_estimators': 55, 'rf_max_depth': 14}. Best is trial 48 with value: 0.7801052128168341.\n",
            "[I 2024-06-11 13:38:23,388] Trial 98 finished with value: 0.7573011318348478 and parameters: {'classifier': 'RandomForest', 'rf_n_estimators': 67, 'rf_max_depth': 9}. Best is trial 48 with value: 0.7801052128168341.\n",
            "[I 2024-06-11 13:38:23,444] Trial 99 finished with value: 0.6530926191614858 and parameters: {'classifier': 'SVC', 'svc_c': 7.249565908209832e-05}. Best is trial 48 with value: 0.7801052128168341.\n"
          ]
        },
        {
          "output_type": "stream",
          "name": "stdout",
          "text": [
            "Number of finished trials:  100\n",
            "Best trial:\n",
            "  Value:  0.7801052128168341\n",
            "  Params: \n",
            "    classifier: RandomForest\n",
            "    rf_n_estimators: 83\n",
            "    rf_max_depth: 18\n"
          ]
        }
      ]
    },
    {
      "cell_type": "code",
      "source": [
        "# En iyi modeli eğit\n",
        "if trial.params['classifier'] == 'SVC':\n",
        "    model = SVC(C=trial.params['svc_c'], gamma='auto')\n",
        "elif trial.params['classifier'] == 'RandomForest':\n",
        "    model = RandomForestClassifier(n_estimators=trial.params['rf_n_estimators'], max_depth=trial.params['rf_max_depth'])\n",
        "else:\n",
        "    model = LogisticRegression(C=trial.params['lr_c'], max_iter=1000)\n",
        "\n",
        "model.fit(X_train, y_train)\n",
        "\n",
        "# Modeli test setinde değerlendir\n",
        "y_pred = model.predict(X_test)\n",
        "\n",
        "from sklearn.metrics import accuracy_score, precision_score, recall_score, f1_score\n",
        "\n",
        "accuracy = accuracy_score(y_test, y_pred)\n",
        "precision = precision_score(y_test, y_pred)\n",
        "recall = recall_score(y_test, y_pred)\n",
        "f1 = f1_score(y_test, y_pred)\n",
        "\n",
        "print(f\"Accuracy: {accuracy}\")\n",
        "print(f\"Precision: {precision}\")\n",
        "print(f\"Recall: {recall}\")\n",
        "print(f\"F1 Score: {f1}\")\n"
      ],
      "metadata": {
        "colab": {
          "base_uri": "https://localhost:8080/"
        },
        "id": "zPOm1448hY7i",
        "outputId": "05889776-a9ef-4454-e590-9ff393225df2"
      },
      "execution_count": null,
      "outputs": [
        {
          "output_type": "stream",
          "name": "stdout",
          "text": [
            "Accuracy: 0.7532467532467533\n",
            "Precision: 0.6440677966101694\n",
            "Recall: 0.6909090909090909\n",
            "F1 Score: 0.6666666666666665\n"
          ]
        }
      ]
    },
    {
      "cell_type": "code",
      "source": [
        "\n",
        "from sklearn.model_selection import train_test_split\n",
        "from sklearn.naive_bayes import GaussianNB\n",
        "from sklearn.metrics import (accuracy_score, precision_score, recall_score, f1_score,\n",
        "                             roc_auc_score, roc_curve, confusion_matrix, auc, mean_squared_error)\n",
        "import matplotlib.pyplot as plt\n",
        "import seaborn as sns\n"
      ],
      "metadata": {
        "id": "f_lVNBVbmDc1"
      },
      "execution_count": null,
      "outputs": []
    },
    {
      "cell_type": "code",
      "source": [
        "!pip install optuna\n",
        "import optuna\n",
        "import pandas as pd\n",
        "import numpy as np\n",
        "from sklearn.model_selection import train_test_split\n",
        "from sklearn.naive_bayes import GaussianNB\n",
        "from sklearn.metrics import (accuracy_score, precision_score, recall_score, f1_score,\n",
        "                             roc_auc_score, roc_curve, confusion_matrix, auc, mean_squared_error)\n",
        "import matplotlib.pyplot as plt\n",
        "import seaborn as sns\n"
      ],
      "metadata": {
        "colab": {
          "base_uri": "https://localhost:8080/"
        },
        "id": "p5ueenY-m83z",
        "outputId": "aa3bc8d5-606e-4d0d-88c3-cb76cfd96f59"
      },
      "execution_count": null,
      "outputs": [
        {
          "output_type": "stream",
          "name": "stdout",
          "text": [
            "Requirement already satisfied: optuna in /usr/local/lib/python3.10/dist-packages (3.6.1)\n",
            "Requirement already satisfied: alembic>=1.5.0 in /usr/local/lib/python3.10/dist-packages (from optuna) (1.13.1)\n",
            "Requirement already satisfied: colorlog in /usr/local/lib/python3.10/dist-packages (from optuna) (6.8.2)\n",
            "Requirement already satisfied: numpy in /usr/local/lib/python3.10/dist-packages (from optuna) (1.25.2)\n",
            "Requirement already satisfied: packaging>=20.0 in /usr/local/lib/python3.10/dist-packages (from optuna) (24.0)\n",
            "Requirement already satisfied: sqlalchemy>=1.3.0 in /usr/local/lib/python3.10/dist-packages (from optuna) (2.0.30)\n",
            "Requirement already satisfied: tqdm in /usr/local/lib/python3.10/dist-packages (from optuna) (4.66.4)\n",
            "Requirement already satisfied: PyYAML in /usr/local/lib/python3.10/dist-packages (from optuna) (6.0.1)\n",
            "Requirement already satisfied: Mako in /usr/local/lib/python3.10/dist-packages (from alembic>=1.5.0->optuna) (1.3.5)\n",
            "Requirement already satisfied: typing-extensions>=4 in /usr/local/lib/python3.10/dist-packages (from alembic>=1.5.0->optuna) (4.12.1)\n",
            "Requirement already satisfied: greenlet!=0.4.17 in /usr/local/lib/python3.10/dist-packages (from sqlalchemy>=1.3.0->optuna) (3.0.3)\n",
            "Requirement already satisfied: MarkupSafe>=0.9.2 in /usr/local/lib/python3.10/dist-packages (from Mako->alembic>=1.5.0->optuna) (2.1.5)\n"
          ]
        }
      ]
    },
    {
      "cell_type": "code",
      "source": [
        "# Veri setini yükle\n",
        "url = \"https://raw.githubusercontent.com/jbrownlee/Datasets/master/pima-indians-diabetes.data.csv\"\n",
        "column_names = ['Pregnancies', 'Glucose', 'BloodPressure', 'SkinThickness', 'Insulin', 'BMI', 'DiabetesPedigreeFunction', 'Age', 'Outcome']\n",
        "data = pd.read_csv(url, names=column_names)\n",
        "\n",
        "# Özellikler ve hedef değişkeni ayırma\n",
        "X = data.drop('Outcome', axis=1)\n",
        "y = data['Outcome']\n",
        "\n",
        "# Veri setini %70 eğitim ve %30 test olarak ayırma\n",
        "X_train, X_test, y_train, y_test = train_test_split(X, y, test_size=0.3, random_state=42)\n"
      ],
      "metadata": {
        "id": "lpaGEBWKoVWU"
      },
      "execution_count": null,
      "outputs": []
    },
    {
      "cell_type": "markdown",
      "source": [
        "# NAIVE BAYES"
      ],
      "metadata": {
        "id": "QYKf7Tt5phBr"
      }
    },
    {
      "cell_type": "code",
      "source": [
        "# Gaussian Naive Bayes sınıflandırıcısı oluşturma\n",
        "gnb = GaussianNB()\n",
        "\n",
        "# Modeli eğitim veri seti ile eğitme\n",
        "gnb.fit(X_train, y_train)\n",
        "\n",
        "# Eğitim ve test verileri üzerinde tahminler\n",
        "y_train_pred = gnb.predict(X_train)\n",
        "y_test_pred = gnb.predict(X_test)\n"
      ],
      "metadata": {
        "id": "U-LBo7fxorwN"
      },
      "execution_count": null,
      "outputs": []
    },
    {
      "cell_type": "code",
      "source": [
        "# Performans metriklerini hesaplama\n",
        "accuracy = accuracy_score(y_test, y_test_pred)\n",
        "precision = precision_score(y_test, y_test_pred, average='macro')\n",
        "recall = recall_score(y_test, y_test_pred, average='macro')\n",
        "f1 = f1_score(y_test, y_test_pred, average='macro')\n",
        "mse = mean_squared_error(y_test, y_test_pred)\n",
        "\n",
        "print(\"Performans Metrikleri:\")\n",
        "print(f\"Accuracy: {accuracy}\")\n",
        "print(f\"Precision: {precision}\")\n",
        "print(f\"Recall: {recall}\")\n",
        "print(f\"F1 Score: {f1}\")\n",
        "print(f\"Mean Squared Error: {mse}\")\n",
        "\n",
        "# Confusion Matrix\n",
        "conf_matrix = confusion_matrix(y_test, y_test_pred)\n",
        "print(\"\\nConfusion Matrix:\")\n",
        "print(conf_matrix)\n",
        "\n",
        "# Confusion Matrix'i görselleştirme\n",
        "sns.heatmap(conf_matrix, annot=True, fmt='d', cmap='Blues')\n",
        "plt.xlabel('Tahmin Edilen')\n",
        "plt.ylabel('Gerçek')\n",
        "plt.title('Confusion Matrix')\n",
        "plt.show()\n"
      ],
      "metadata": {
        "colab": {
          "base_uri": "https://localhost:8080/",
          "height": 646
        },
        "id": "lt8TP1AMoz4S",
        "outputId": "f563c3dd-7e56-46cc-d937-1570336112f0"
      },
      "execution_count": null,
      "outputs": [
        {
          "output_type": "stream",
          "name": "stdout",
          "text": [
            "Performans Metrikleri:\n",
            "Accuracy: 0.7445887445887446\n",
            "Precision: 0.7192989524576954\n",
            "Recall: 0.7252897350993377\n",
            "F1 Score: 0.7218855218855218\n",
            "Mean Squared Error: 0.2554112554112554\n",
            "\n",
            "Confusion Matrix:\n",
            "[[119  32]\n",
            " [ 27  53]]\n"
          ]
        },
        {
          "output_type": "display_data",
          "data": {
            "text/plain": [
              "<Figure size 640x480 with 2 Axes>"
            ],
            "image/png": "[encoded data removed]"
          },
          "metadata": {}
        }
      ]
    },
    {
      "cell_type": "code",
      "source": [
        "# ROC Eğrisi ve AUC hesaplama\n",
        "y_test_proba = gnb.predict_proba(X_test)\n",
        "fpr, tpr, _ = roc_curve(y_test, y_test_proba[:, 1])\n",
        "roc_auc = auc(fpr, tpr)\n",
        "\n",
        "# ROC Eğrisini çizme\n",
        "plt.figure()\n",
        "plt.plot(fpr, tpr, color='darkorange', lw=2, label=f'ROC curve (area = {roc_auc:.2f})')\n",
        "plt.plot([0, 1], [0, 1], color='navy', lw=2, linestyle='--')\n",
        "plt.xlim([0.0, 1.0])\n",
        "plt.ylim([0.0, 1.05])\n",
        "plt.xlabel('False Positive Rate')\n",
        "plt.ylabel('True Positive Rate')\n",
        "plt.title('Receiver Operating Characteristic (ROC) Curve')\n",
        "plt.legend(loc='lower right')\n",
        "plt.show()\n"
      ],
      "metadata": {
        "colab": {
          "base_uri": "https://localhost:8080/",
          "height": 472
        },
        "id": "EfQBNIjtpA-k",
        "outputId": "6efe5042-81dd-4a4b-b9f5-c521a26fd96c"
      },
      "execution_count": null,
      "outputs": [
        {
          "output_type": "display_data",
          "data": {
            "text/plain": [
              "<Figure size 640x480 with 1 Axes>"
            ],
            "image/png": "[encoded data removed]"
          },
          "metadata": {}
        }
      ]
    },
    {
      "cell_type": "code",
      "source": [
        "!pip install optuna\n",
        "import optuna\n",
        "import pandas as pd\n",
        "import numpy as np\n",
        "from sklearn.model_selection import train_test_split\n",
        "from sklearn.naive_bayes import GaussianNB\n",
        "from sklearn.metrics import (accuracy_score, precision_score, recall_score, f1_score,\n",
        "                             roc_auc_score, roc_curve, confusion_matrix, auc, mean_squared_error)\n",
        "import matplotlib.pyplot as plt\n",
        "import seaborn as sns\n",
        "\n",
        "# Veri setini yükle\n",
        "url = \"https://raw.githubusercontent.com/jbrownlee/Datasets/master/pima-indians-diabetes.data.csv\"\n",
        "column_names = ['Pregnancies', 'Glucose', 'BloodPressure', 'SkinThickness', 'Insulin', 'BMI', 'DiabetesPedigreeFunction', 'Age', 'Outcome']\n",
        "data = pd.read_csv(url, names=column_names)\n",
        "\n",
        "# Özellikler ve hedef değişkeni ayırma\n",
        "X = data.drop('Outcome', axis=1)\n",
        "y = data['Outcome']\n",
        "\n",
        "# Veri setini %70 eğitim ve %30 test olarak ayırma\n",
        "X_train, X_test, y_train, y_test = train_test_split(X, y, test_size=0.3, random_state=42)\n",
        "\n",
        "# Gaussian Naive Bayes sınıflandırıcısı oluşturma\n",
        "gnb = GaussianNB()\n",
        "\n",
        "# Modeli eğitim veri seti ile eğitme\n",
        "gnb.fit(X_train, y_train)\n",
        "\n",
        "# Eğitim ve test verileri üzerinde tahminler\n",
        "y_train_pred = gnb.predict(X_train)\n",
        "y_test_pred = gnb.predict(X_test)\n",
        "\n",
        "# Performans metriklerini hesaplama\n",
        "accuracy = accuracy_score(y_test, y_test_pred)\n",
        "precision = precision_score(y_test, y_test_pred, average='macro')\n",
        "recall = recall_score(y_test, y_test_pred, average='macro')\n",
        "f1 = f1_score(y_test, y_test_pred, average='macro')\n",
        "mse = mean_squared_error(y_test, y_test_pred)\n",
        "\n",
        "print(\"Performans Metrikleri:\")\n",
        "print(f\"Accuracy: {accuracy}\")\n",
        "print(f\"Precision: {precision}\")\n",
        "print(f\"Recall: {recall}\")\n",
        "print(f\"F1 Score: {f1}\")\n",
        "print(f\"Mean Squared Error: {mse}\")\n",
        "\n",
        "# Confusion Matrix\n",
        "conf_matrix = confusion_matrix(y_test, y_test_pred)\n",
        "print(\"\\nConfusion Matrix:\")\n",
        "print(conf_matrix)\n",
        "\n",
        "# Confusion Matrix'i görselleştirme\n",
        "sns.heatmap(conf_matrix, annot=True, fmt='d', cmap='Blues')\n",
        "plt.xlabel('Tahmin Edilen')\n",
        "plt.ylabel('Gerçek')\n",
        "plt.title('Confusion Matrix')\n",
        "plt.show()\n",
        "\n",
        "# ROC Eğrisi ve AUC hesaplama\n",
        "y_test_proba = gnb.predict_proba(X_test)\n",
        "fpr, tpr, _ = roc_curve(y_test, y_test_proba[:, 1])\n",
        "roc_auc = auc(fpr, tpr)\n",
        "\n",
        "# ROC Eğrisini çizme\n",
        "plt.figure()\n",
        "plt.plot(fpr, tpr, color='darkorange', lw=2, label=f'ROC curve (area = {roc_auc:.2f})')\n",
        "plt.plot([0, 1], [0, 1], color='navy', lw=2, linestyle='--')\n",
        "plt.xlim([0.0, 1.0])\n",
        "plt.ylim([0.0, 1.05])\n",
        "plt.xlabel('False Positive Rate')\n",
        "plt.ylabel('True Positive Rate')\n",
        "plt.title('Receiver Operating Characteristic (ROC) Curve')\n",
        "plt.legend(loc='lower right')\n",
        "plt.show()\n",
        "\n",
        "# Sensitivity ve Specificity hesaplama\n",
        "tn, fp, fn, tp = confusion_matrix(y_test, y_test_pred).ravel()\n",
        "\n",
        "sensitivity = tp / (tp + fn)\n",
        "specificity = tn / (tn + fp)\n",
        "\n",
        "print(f\"Sensitivity: {sensitivity}\")\n",
        "print(f\"Specificity: {specificity}\")\n"
      ],
      "metadata": {
        "colab": {
          "base_uri": "https://localhost:8080/",
          "height": 1000
        },
        "id": "sCZ2ExOUpJlz",
        "outputId": "5c678d04-c56c-43e8-f24d-6ae6467f1895"
      },
      "execution_count": null,
      "outputs": [
        {
          "output_type": "stream",
          "name": "stdout",
          "text": [
            "Requirement already satisfied: optuna in /usr/local/lib/python3.10/dist-packages (3.6.1)\n",
            "Requirement already satisfied: alembic>=1.5.0 in /usr/local/lib/python3.10/dist-packages (from optuna) (1.13.1)\n",
            "Requirement already satisfied: colorlog in /usr/local/lib/python3.10/dist-packages (from optuna) (6.8.2)\n",
            "Requirement already satisfied: numpy in /usr/local/lib/python3.10/dist-packages (from optuna) (1.25.2)\n",
            "Requirement already satisfied: packaging>=20.0 in /usr/local/lib/python3.10/dist-packages (from optuna) (24.0)\n",
            "Requirement already satisfied: sqlalchemy>=1.3.0 in /usr/local/lib/python3.10/dist-packages (from optuna) (2.0.30)\n",
            "Requirement already satisfied: tqdm in /usr/local/lib/python3.10/dist-packages (from optuna) (4.66.4)\n",
            "Requirement already satisfied: PyYAML in /usr/local/lib/python3.10/dist-packages (from optuna) (6.0.1)\n",
            "Requirement already satisfied: Mako in /usr/local/lib/python3.10/dist-packages (from alembic>=1.5.0->optuna) (1.3.5)\n",
            "Requirement already satisfied: typing-extensions>=4 in /usr/local/lib/python3.10/dist-packages (from alembic>=1.5.0->optuna) (4.12.1)\n",
            "Requirement already satisfied: greenlet!=0.4.17 in /usr/local/lib/python3.10/dist-packages (from sqlalchemy>=1.3.0->optuna) (3.0.3)\n",
            "Requirement already satisfied: MarkupSafe>=0.9.2 in /usr/local/lib/python3.10/dist-packages (from Mako->alembic>=1.5.0->optuna) (2.1.5)\n",
            "Performans Metrikleri:\n",
            "Accuracy: 0.7445887445887446\n",
            "Precision: 0.7192989524576954\n",
            "Recall: 0.7252897350993377\n",
            "F1 Score: 0.7218855218855218\n",
            "Mean Squared Error: 0.2554112554112554\n",
            "\n",
            "Confusion Matrix:\n",
            "[[119  32]\n",
            " [ 27  53]]\n"
          ]
        },
        {
          "output_type": "display_data",
          "data": {
            "text/plain": [
              "<Figure size 640x480 with 2 Axes>"
            ],
            "image/png": "[encoded data removed]"
          },
          "metadata": {}
        },
        {
          "output_type": "display_data",
          "data": {
            "text/plain": [
              "<Figure size 640x480 with 1 Axes>"
            ],
            "image/png": "[encoded data removed]"
          },
          "metadata": {}
        },
        {
          "output_type": "stream",
          "name": "stdout",
          "text": [
            "Sensitivity: 0.6625\n",
            "Specificity: 0.7880794701986755\n"
          ]
        }
      ]
    },
    {
      "cell_type": "markdown",
      "source": [
        "#  K-en"
      ],
      "metadata": {
        "id": "JudkXPM2pUGD"
      }
    },
    {
      "cell_type": "code",
      "source": [
        "import optuna\n",
        "import pandas as pd\n",
        "from sklearn.model_selection import train_test_split\n",
        "from sklearn.neighbors import KNeighborsClassifier\n",
        "from sklearn.metrics import mean_squared_error\n"
      ],
      "metadata": {
        "id": "9w0x9lfZpxBT"
      },
      "execution_count": null,
      "outputs": []
    },
    {
      "cell_type": "code",
      "source": [
        "# Veri setini yükle\n",
        "url = \"https://raw.githubusercontent.com/jbrownlee/Datasets/master/pima-indians-diabetes.data.csv\"\n",
        "column_names = ['Pregnancies', 'Glucose', 'BloodPressure', 'SkinThickness', 'Insulin', 'BMI', 'DiabetesPedigreeFunction', 'Age', 'Outcome']\n",
        "data = pd.read_csv(url, names=column_names)\n",
        "\n",
        "# Özellikler ve hedef değişkeni ayırma\n",
        "X = data.drop('Outcome', axis=1)\n",
        "y = data['Outcome']\n",
        "\n",
        "# Veri setini %70 eğitim ve %30 test olarak ayırma\n",
        "X_train, X_test, y_train, y_test = train_test_split(X, y, test_size=0.3, random_state=42)\n"
      ],
      "metadata": {
        "id": "uaMS5FM8pXNb"
      },
      "execution_count": null,
      "outputs": []
    },
    {
      "cell_type": "code",
      "source": [
        "def objective(trial):\n",
        "    k = trial.suggest_int('k', 1, 20)\n",
        "    knn = KNeighborsClassifier(n_neighbors=k)\n",
        "    knn.fit(X_train, y_train)\n",
        "    return mean_squared_error(y_test, knn.predict(X_test))\n",
        "\n",
        "study = optuna.create_study(direction='minimize')\n",
        "study.optimize(objective, n_trials=20)\n",
        "\n",
        "best_k = study.best_params['k']\n",
        "print(f\"En iyi k değeri: {best_k}\")\n"
      ],
      "metadata": {
        "colab": {
          "base_uri": "https://localhost:8080/"
        },
        "id": "aQ_kWYOLp2K6",
        "outputId": "3cc1ad0b-cc10-4182-c976-155fbe6cebb7"
      },
      "execution_count": null,
      "outputs": [
        {
          "output_type": "stream",
          "name": "stderr",
          "text": [
            "[I 2024-06-11 14:15:35,607] A new study created in memory with name: no-name-4e1886ac-b7d7-416c-854e-7425ba117df7\n",
            "[I 2024-06-11 14:15:35,688] Trial 0 finished with value: 0.2857142857142857 and parameters: {'k': 18}. Best is trial 0 with value: 0.2857142857142857.\n",
            "[I 2024-06-11 14:15:35,722] Trial 1 finished with value: 0.2813852813852814 and parameters: {'k': 10}. Best is trial 1 with value: 0.2813852813852814.\n",
            "[I 2024-06-11 14:15:35,759] Trial 2 finished with value: 0.2727272727272727 and parameters: {'k': 17}. Best is trial 2 with value: 0.2727272727272727.\n",
            "[I 2024-06-11 14:15:35,804] Trial 3 finished with value: 0.26406926406926406 and parameters: {'k': 16}. Best is trial 3 with value: 0.26406926406926406.\n",
            "[I 2024-06-11 14:15:35,841] Trial 4 finished with value: 0.2987012987012987 and parameters: {'k': 6}. Best is trial 3 with value: 0.26406926406926406.\n",
            "[I 2024-06-11 14:15:35,873] Trial 5 finished with value: 0.2683982683982684 and parameters: {'k': 11}. Best is trial 3 with value: 0.26406926406926406.\n",
            "[I 2024-06-11 14:15:35,959] Trial 6 finished with value: 0.3246753246753247 and parameters: {'k': 3}. Best is trial 3 with value: 0.26406926406926406.\n",
            "[I 2024-06-11 14:15:36,033] Trial 7 finished with value: 0.2857142857142857 and parameters: {'k': 8}. Best is trial 3 with value: 0.26406926406926406.\n",
            "[I 2024-06-11 14:15:36,108] Trial 8 finished with value: 0.2727272727272727 and parameters: {'k': 14}. Best is trial 3 with value: 0.26406926406926406.\n",
            "[I 2024-06-11 14:15:36,185] Trial 9 finished with value: 0.2597402597402597 and parameters: {'k': 12}. Best is trial 9 with value: 0.2597402597402597.\n",
            "[I 2024-06-11 14:15:36,271] Trial 10 finished with value: 0.29004329004329005 and parameters: {'k': 20}. Best is trial 9 with value: 0.2597402597402597.\n",
            "[I 2024-06-11 14:15:36,383] Trial 11 finished with value: 0.2554112554112554 and parameters: {'k': 13}. Best is trial 11 with value: 0.2554112554112554.\n",
            "[I 2024-06-11 14:15:36,469] Trial 12 finished with value: 0.2554112554112554 and parameters: {'k': 13}. Best is trial 11 with value: 0.2554112554112554.\n",
            "[I 2024-06-11 14:15:36,573] Trial 13 finished with value: 0.2727272727272727 and parameters: {'k': 14}. Best is trial 11 with value: 0.2554112554112554.\n",
            "[I 2024-06-11 14:15:36,660] Trial 14 finished with value: 0.2727272727272727 and parameters: {'k': 14}. Best is trial 11 with value: 0.2554112554112554.\n",
            "[I 2024-06-11 14:15:36,760] Trial 15 finished with value: 0.2857142857142857 and parameters: {'k': 8}. Best is trial 11 with value: 0.2554112554112554.\n",
            "[I 2024-06-11 14:15:36,854] Trial 16 finished with value: 0.27705627705627706 and parameters: {'k': 4}. Best is trial 11 with value: 0.2554112554112554.\n",
            "[I 2024-06-11 14:15:36,936] Trial 17 finished with value: 0.2597402597402597 and parameters: {'k': 12}. Best is trial 11 with value: 0.2554112554112554.\n",
            "[I 2024-06-11 14:15:36,999] Trial 18 finished with value: 0.2987012987012987 and parameters: {'k': 9}. Best is trial 11 with value: 0.2554112554112554.\n",
            "[I 2024-06-11 14:15:37,065] Trial 19 finished with value: 0.3116883116883117 and parameters: {'k': 1}. Best is trial 11 with value: 0.2554112554112554.\n"
          ]
        },
        {
          "output_type": "stream",
          "name": "stdout",
          "text": [
            "En iyi k değeri: 13\n"
          ]
        }
      ]
    },
    {
      "cell_type": "code",
      "source": [
        "def objective(trial):\n",
        "    k = trial.suggest_int('k', 1, 20)\n",
        "    knn = KNeighborsClassifier(n_neighbors=k)\n",
        "    knn.fit(X_train, y_train)\n",
        "    return mean_squared_error(y_test, knn.predict(X_test))\n",
        "\n",
        "study = optuna.create_study(direction='minimize')\n",
        "study.optimize(objective, n_trials=20)\n",
        "\n",
        "best_k = study.best_params['k']\n",
        "print(f\"En iyi k değeri: {best_k}\")\n"
      ],
      "metadata": {
        "colab": {
          "base_uri": "https://localhost:8080/"
        },
        "id": "z57nUB5Xp3cD",
        "outputId": "13f65a72-4790-4f55-8768-fc104642dbe2"
      },
      "execution_count": null,
      "outputs": [
        {
          "output_type": "stream",
          "name": "stderr",
          "text": [
            "[I 2024-06-11 14:15:41,450] A new study created in memory with name: no-name-68cfbf59-e543-4e5e-bf2e-979dd3e742fa\n",
            "[I 2024-06-11 14:15:41,484] Trial 0 finished with value: 0.2857142857142857 and parameters: {'k': 18}. Best is trial 0 with value: 0.2857142857142857.\n",
            "[I 2024-06-11 14:15:41,518] Trial 1 finished with value: 0.27705627705627706 and parameters: {'k': 19}. Best is trial 1 with value: 0.27705627705627706.\n",
            "[I 2024-06-11 14:15:41,552] Trial 2 finished with value: 0.2857142857142857 and parameters: {'k': 18}. Best is trial 1 with value: 0.27705627705627706.\n",
            "[I 2024-06-11 14:15:41,589] Trial 3 finished with value: 0.29004329004329005 and parameters: {'k': 20}. Best is trial 1 with value: 0.27705627705627706.\n",
            "[I 2024-06-11 14:15:41,623] Trial 4 finished with value: 0.26406926406926406 and parameters: {'k': 16}. Best is trial 4 with value: 0.26406926406926406.\n",
            "[I 2024-06-11 14:15:41,657] Trial 5 finished with value: 0.2597402597402597 and parameters: {'k': 15}. Best is trial 5 with value: 0.2597402597402597.\n",
            "[I 2024-06-11 14:15:41,700] Trial 6 finished with value: 0.2987012987012987 and parameters: {'k': 6}. Best is trial 5 with value: 0.2597402597402597.\n",
            "[I 2024-06-11 14:15:41,737] Trial 7 finished with value: 0.2727272727272727 and parameters: {'k': 14}. Best is trial 5 with value: 0.2597402597402597.\n",
            "[I 2024-06-11 14:15:41,775] Trial 8 finished with value: 0.2554112554112554 and parameters: {'k': 13}. Best is trial 8 with value: 0.2554112554112554.\n",
            "[I 2024-06-11 14:15:41,811] Trial 9 finished with value: 0.2727272727272727 and parameters: {'k': 2}. Best is trial 8 with value: 0.2554112554112554.\n",
            "[I 2024-06-11 14:15:41,857] Trial 10 finished with value: 0.2813852813852814 and parameters: {'k': 10}. Best is trial 8 with value: 0.2554112554112554.\n",
            "[I 2024-06-11 14:15:41,902] Trial 11 finished with value: 0.2597402597402597 and parameters: {'k': 12}. Best is trial 8 with value: 0.2554112554112554.\n",
            "[I 2024-06-11 14:15:41,945] Trial 12 finished with value: 0.2813852813852814 and parameters: {'k': 10}. Best is trial 8 with value: 0.2554112554112554.\n",
            "[I 2024-06-11 14:15:41,989] Trial 13 finished with value: 0.2727272727272727 and parameters: {'k': 14}. Best is trial 8 with value: 0.2554112554112554.\n",
            "[I 2024-06-11 14:15:42,058] Trial 14 finished with value: 0.2857142857142857 and parameters: {'k': 8}. Best is trial 8 with value: 0.2554112554112554.\n",
            "[I 2024-06-11 14:15:42,106] Trial 15 finished with value: 0.2727272727272727 and parameters: {'k': 14}. Best is trial 8 with value: 0.2554112554112554.\n",
            "[I 2024-06-11 14:15:42,148] Trial 16 finished with value: 0.3116883116883117 and parameters: {'k': 5}. Best is trial 8 with value: 0.2554112554112554.\n",
            "[I 2024-06-11 14:15:42,191] Trial 17 finished with value: 0.26406926406926406 and parameters: {'k': 16}. Best is trial 8 with value: 0.2554112554112554.\n",
            "[I 2024-06-11 14:15:42,241] Trial 18 finished with value: 0.2597402597402597 and parameters: {'k': 12}. Best is trial 8 with value: 0.2554112554112554.\n",
            "[I 2024-06-11 14:15:42,285] Trial 19 finished with value: 0.26406926406926406 and parameters: {'k': 16}. Best is trial 8 with value: 0.2554112554112554.\n"
          ]
        },
        {
          "output_type": "stream",
          "name": "stdout",
          "text": [
            "En iyi k değeri: 13\n"
          ]
        }
      ]
    },
    {
      "cell_type": "code",
      "source": [
        "knn = KNeighborsClassifier(n_neighbors=best_k)\n",
        "knn.fit(X_train, y_train)\n",
        "\n",
        "# Test verisi üzerinde tahminler\n",
        "y_test_pred = knn.predict(X_test)\n",
        "\n",
        "# Ortalama karesel hata hesaplama\n",
        "mse = mean_squared_error(y_test, y_test_pred)\n",
        "print(f\"Ortalama karesel hata: {mse}\")\n"
      ],
      "metadata": {
        "colab": {
          "base_uri": "https://localhost:8080/"
        },
        "id": "sTUfJyAlp6e6",
        "outputId": "57ce138b-014b-43ee-9a0a-e43591ba93c3"
      },
      "execution_count": null,
      "outputs": [
        {
          "output_type": "stream",
          "name": "stdout",
          "text": [
            "Ortalama karesel hata: 0.2554112554112554\n"
          ]
        }
      ]
    },
    {
      "cell_type": "code",
      "source": [
        "import pandas as pd\n",
        "from sklearn.model_selection import train_test_split\n",
        "\n",
        "# Veri setini yükle\n",
        "url = \"https://raw.githubusercontent.com/jbrownlee/Datasets/master/pima-indians-diabetes.data.csv\"\n",
        "column_names = ['Pregnancies', 'Glucose', 'BloodPressure', 'SkinThickness', 'Insulin', 'BMI', 'DiabetesPedigreeFunction', 'Age', 'Outcome']\n",
        "data = pd.read_csv(url, names=column_names)\n",
        "\n",
        "# Özellikler ve hedef değişkeni ayırma\n",
        "X = data.drop('Outcome', axis=1)\n",
        "y = data['Outcome']\n",
        "\n",
        "# Veri setini %70 eğitim ve %30 test olarak ayırma\n",
        "X_train, X_test, y_train, y_test = train_test_split(X, y, test_size=0.3, random_state=42)\n"
      ],
      "metadata": {
        "id": "D0l7J6nkp71j"
      },
      "execution_count": null,
      "outputs": []
    },
    {
      "cell_type": "code",
      "source": [
        "import pandas as pd\n",
        "from sklearn.model_selection import train_test_split\n",
        "\n",
        "# Veri setini yükle\n",
        "url = \"https://raw.githubusercontent.com/jbrownlee/Datasets/master/pima-indians-diabetes.data.csv\"\n",
        "column_names = ['Pregnancies', 'Glucose', 'BloodPressure', 'SkinThickness', 'Insulin', 'BMI', 'DiabetesPedigreeFunction', 'Age', 'Outcome']\n",
        "data = pd.read_csv(url, names=column_names)\n",
        "\n",
        "# Özellikler ve hedef değişkeni ayırma\n",
        "X = data.drop('Outcome', axis=1)\n",
        "y = data['Outcome']\n",
        "\n",
        "# Veri setini %70 eğitim ve %30 test olarak ayırma\n",
        "X_train, X_test, y_train, y_test = train_test_split(X, y, test_size=0.3, random_state=42)\n"
      ],
      "metadata": {
        "id": "9Tt-XBhFp930"
      },
      "execution_count": null,
      "outputs": []
    },
    {
      "cell_type": "code",
      "source": [
        "from sklearn.neighbors import KNeighborsClassifier\n",
        "from sklearn.metrics import mean_squared_error, classification_report\n",
        "\n",
        "# K-en yakın komşuluk sınıflandırıcısını uygulama\n",
        "k_values = [1, 3, 5, 7, 9]\n",
        "best_k = None\n",
        "best_score = 0\n",
        "\n",
        "for k in k_values:\n",
        "    knn = KNeighborsClassifier(n_neighbors=k)\n",
        "    knn.fit(X_train, y_train)\n",
        "    score = knn.score(X_test, y_test)\n",
        "    if score > best_score:\n",
        "        best_score = score\n",
        "        best_k = k\n",
        "\n",
        "# En iyi k değerini bulma\n",
        "print(f\"En iyi k değeri: {best_k}\")\n",
        "\n",
        "# Test verisi için ortalama karesel hata hesaplama\n",
        "y_pred = knn.predict(X_test)\n",
        "mse = mean_squared_error(y_test, y_pred)\n",
        "print(f\"Test verisi için ortalama karesel hata: {mse}\")\n",
        "\n",
        "# Performans metriklerini hesaplama\n",
        "print(\"Performans Metrikleri:\")\n",
        "print(classification_report(y_test, y_pred))\n"
      ],
      "metadata": {
        "colab": {
          "base_uri": "https://localhost:8080/"
        },
        "id": "D9Bz48gorHhN",
        "outputId": "8c614aad-6578-416f-f826-24c4a21a464d"
      },
      "execution_count": null,
      "outputs": [
        {
          "output_type": "stream",
          "name": "stdout",
          "text": [
            "En iyi k değeri: 9\n",
            "Test verisi için ortalama karesel hata: 0.2987012987012987\n",
            "Performans Metrikleri:\n",
            "              precision    recall  f1-score   support\n",
            "\n",
            "           0       0.78      0.76      0.77       151\n",
            "           1       0.57      0.59      0.58        80\n",
            "\n",
            "    accuracy                           0.70       231\n",
            "   macro avg       0.67      0.67      0.67       231\n",
            "weighted avg       0.70      0.70      0.70       231\n",
            "\n"
          ]
        }
      ]
    },
    {
      "cell_type": "code",
      "source": [],
      "metadata": {
        "id": "FE-zHWONr6Lk"
      },
      "execution_count": null,
      "outputs": []
    },
    {
      "cell_type": "markdown",
      "source": [
        "# MLP - SVM"
      ],
      "metadata": {
        "id": "P6bC3D0rr7Hu"
      }
    },
    {
      "cell_type": "code",
      "source": [
        "import pandas as pd\n",
        "from sklearn.model_selection import train_test_split\n",
        "from sklearn.preprocessing import StandardScaler\n",
        "from sklearn.neural_network import MLPClassifier\n",
        "from sklearn.svm import SVC\n",
        "from sklearn.metrics import classification_report, confusion_matrix\n",
        "\n",
        "# Veri setini yükle\n",
        "url = \"https://raw.githubusercontent.com/jbrownlee/Datasets/master/pima-indians-diabetes.data.csv\"\n",
        "column_names = ['Pregnancies', 'Glucose', 'BloodPressure', 'SkinThickness', 'Insulin', 'BMI', 'DiabetesPedigreeFunction', 'Age', 'Outcome']\n",
        "data = pd.read_csv(url, names=column_names)\n",
        "\n",
        "# Bağımsız ve bağımlı değişkenleri ayır\n",
        "X = data.drop('Outcome', axis=1)\n",
        "y = data['Outcome']\n",
        "\n",
        "# Veriyi eğitim ve test setlerine ayır\n",
        "X_train, X_test, y_train, y_test = train_test_split(X, y, test_size=0.3, random_state=0)\n",
        "\n",
        "# Veriyi ölçeklendir\n",
        "scaler = StandardScaler()\n",
        "X_train = scaler.fit_transform(X_train)\n",
        "X_test = scaler.transform(X_test)\n",
        "\n",
        "# MLP sınıflandırıcıyı uygula\n",
        "mlp = MLPClassifier(hidden_layer_sizes=(10, 10, 10), max_iter=1000)\n",
        "mlp.fit(X_train, y_train)\n",
        "mlp_predictions = mlp.predict(X_test)\n",
        "\n",
        "# SVM sınıflandırıcıyı uygula\n",
        "svm = SVC(kernel='linear')\n",
        "svm.fit(X_train, y_train)\n",
        "svm_predictions = svm.predict(X_test)\n",
        "\n",
        "# Sonuçları raporla\n",
        "print(\"MLP Sınıflandırıcı Raporu:\")\n",
        "print(classification_report(y_test, mlp_predictions))\n",
        "print(\"MLP Sınıflandırıcı Karışıklık Matrisi:\")\n",
        "print(confusion_matrix(y_test, mlp_predictions))\n",
        "\n",
        "print(\"\\nSVM Sınıflandırıcı Raporu:\")\n",
        "print(classification_report(y_test, svm_predictions))\n",
        "print(\"SVM Sınıflandırıcı Karışıklık Matrisi:\")\n",
        "print(confusion_matrix(y_test, svm_predictions))\n"
      ],
      "metadata": {
        "colab": {
          "base_uri": "https://localhost:8080/"
        },
        "id": "npKgxp9cr9fr",
        "outputId": "3323fa97-1b12-40ba-d9e5-c52e57849dcb"
      },
      "execution_count": null,
      "outputs": [
        {
          "output_type": "stream",
          "name": "stdout",
          "text": [
            "MLP Sınıflandırıcı Raporu:\n",
            "              precision    recall  f1-score   support\n",
            "\n",
            "           0       0.78      0.82      0.80       157\n",
            "           1       0.56      0.50      0.53        74\n",
            "\n",
            "    accuracy                           0.71       231\n",
            "   macro avg       0.67      0.66      0.66       231\n",
            "weighted avg       0.71      0.71      0.71       231\n",
            "\n",
            "MLP Sınıflandırıcı Karışıklık Matrisi:\n",
            "[[128  29]\n",
            " [ 37  37]]\n",
            "\n",
            "SVM Sınıflandırıcı Raporu:\n",
            "              precision    recall  f1-score   support\n",
            "\n",
            "           0       0.81      0.90      0.85       157\n",
            "           1       0.71      0.54      0.62        74\n",
            "\n",
            "    accuracy                           0.78       231\n",
            "   macro avg       0.76      0.72      0.73       231\n",
            "weighted avg       0.78      0.78      0.77       231\n",
            "\n",
            "SVM Sınıflandırıcı Karışıklık Matrisi:\n",
            "[[141  16]\n",
            " [ 34  40]]\n"
          ]
        },
        {
          "output_type": "stream",
          "name": "stderr",
          "text": [
            "/usr/local/lib/python3.10/dist-packages/sklearn/neural_network/_multilayer_perceptron.py:686: ConvergenceWarning: Stochastic Optimizer: Maximum iterations (1000) reached and the optimization hasn't converged yet.\n",
            "  warnings.warn(\n"
          ]
        }
      ]
    }
  ]
}